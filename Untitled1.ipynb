{
 "cells": [
  {
   "cell_type": "code",
   "execution_count": 4,
   "id": "705bf095-681a-409e-916a-4fe086bf3ea9",
   "metadata": {
    "tags": []
   },
   "outputs": [
    {
     "name": "stderr",
     "output_type": "stream",
     "text": [
      "C:\\Users\\johng\\anaconda3\\Lib\\site-packages\\torchvision\\io\\image.py:13: UserWarning: Failed to load image Python extension: '[WinError 127] The specified procedure could not be found'If you don't plan on using image functionality from `torchvision.io`, you can ignore this warning. Otherwise, there might be something wrong with your environment. Did you have `libjpeg` or `libpng` installed before building `torchvision` from source?\n",
      "  warn(\n"
     ]
    }
   ],
   "source": [
    "import io\n",
    "import os\n",
    "from PIL import Image\n",
    "import streamlit as st\n",
    "import torch\n",
    "from torchvision import transforms\n",
    "import wget"
   ]
  },
  {
   "cell_type": "code",
   "execution_count": 26,
   "id": "558fb7ae-c6d6-419b-a647-aeb240002948",
   "metadata": {
    "tags": []
   },
   "outputs": [],
   "source": [
    "def load_labels():\n",
    "    labels_path = 'labels.txt'\n",
    "    labels_file = os.path.basename(labels_path)\n",
    "    if not os.path.exists(labels_file):\n",
    "        wget.download(labels_path)\n",
    "    with open(labels_file, \"r\") as f:\n",
    "        categories = [s.strip() for s in f.readlines()]\n",
    "        return categories"
   ]
  },
  {
   "cell_type": "code",
   "execution_count": 20,
   "id": "0a15d72d-20df-4ad2-ae6e-1a3b5c816c19",
   "metadata": {
    "tags": []
   },
   "outputs": [],
   "source": [
    "def load_labels():\n",
    "    labels_file = ['cancer', 'noncancer']\n",
    "    with open(labels_file, \"r\") as f:\n",
    "        categories = [s.strip() for s in f.readlines()]\n",
    "        return categories"
   ]
  },
  {
   "cell_type": "code",
   "execution_count": 27,
   "id": "398414ca-e490-4d31-a2eb-fd429983f72d",
   "metadata": {
    "tags": []
   },
   "outputs": [
    {
     "data": {
      "text/plain": [
       "['cancer', 'noncancer']"
      ]
     },
     "execution_count": 27,
     "metadata": {},
     "output_type": "execute_result"
    }
   ],
   "source": [
    "load_labels()"
   ]
  }
 ],
 "metadata": {
  "kernelspec": {
   "display_name": "Python 3 (ipykernel)",
   "language": "python",
   "name": "python3"
  },
  "language_info": {
   "codemirror_mode": {
    "name": "ipython",
    "version": 3
   },
   "file_extension": ".py",
   "mimetype": "text/x-python",
   "name": "python",
   "nbconvert_exporter": "python",
   "pygments_lexer": "ipython3",
   "version": "3.11.5"
  }
 },
 "nbformat": 4,
 "nbformat_minor": 5
}
