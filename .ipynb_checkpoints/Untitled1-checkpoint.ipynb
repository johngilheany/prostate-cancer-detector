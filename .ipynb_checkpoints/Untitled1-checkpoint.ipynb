{
 "cells": [
  {
   "cell_type": "code",
   "execution_count": 4,
   "id": "705bf095-681a-409e-916a-4fe086bf3ea9",
   "metadata": {
    "tags": []
   },
   "outputs": [
    {
     "name": "stderr",
     "output_type": "stream",
     "text": [
      "C:\\Users\\johng\\anaconda3\\Lib\\site-packages\\torchvision\\io\\image.py:13: UserWarning: Failed to load image Python extension: '[WinError 127] The specified procedure could not be found'If you don't plan on using image functionality from `torchvision.io`, you can ignore this warning. Otherwise, there might be something wrong with your environment. Did you have `libjpeg` or `libpng` installed before building `torchvision` from source?\n",
      "  warn(\n"
     ]
    }
   ],
   "source": [
    "import io\n",
    "import os\n",
    "from PIL import Image\n",
    "import streamlit as st\n",
    "import torch\n",
    "from torchvision import transforms\n",
    "import wget"
   ]
  },
  {
   "cell_type": "code",
   "execution_count": 15,
   "id": "558fb7ae-c6d6-419b-a647-aeb240002948",
   "metadata": {
    "tags": []
   },
   "outputs": [],
   "source": [
    "def load_labels():\n",
    "    labels_path = 'labels.txt'\n",
    "    labels_file = os.path.basename(labels_path)\n",
    "    return labels_file\n",
    "    if not os.path.exists(labels_file):\n",
    "        wget.download(labels_path)\n",
    "    with open(labels_file, \"r\") as f:\n",
    "        categories = [s.strip() for s in f.readlines()]\n",
    "        return categories"
   ]
  },
  {
   "cell_type": "code",
   "execution_count": 8,
   "id": "0a15d72d-20df-4ad2-ae6e-1a3b5c816c19",
   "metadata": {
    "tags": []
   },
   "outputs": [],
   "source": [
    "def load_labels():\n",
    "    labels_file = ['cancer', 'noncancer']\n",
    "    with open(labels_file, \"r\") as f:\n",
    "        categories = [s.strip() for s in f.readlines()]\n",
    "        return categories"
   ]
  },
  {
   "cell_type": "code",
   "execution_count": 16,
   "id": "398414ca-e490-4d31-a2eb-fd429983f72d",
   "metadata": {
    "tags": []
   },
   "outputs": [
    {
     "ename": "NameError",
     "evalue": "name 'labels' is not defined",
     "output_type": "error",
     "traceback": [
      "\u001b[1;31m---------------------------------------------------------------------------\u001b[0m",
      "\u001b[1;31mNameError\u001b[0m                                 Traceback (most recent call last)",
      "Cell \u001b[1;32mIn[16], line 1\u001b[0m\n\u001b[1;32m----> 1\u001b[0m load_labels()\n",
      "Cell \u001b[1;32mIn[15], line 2\u001b[0m, in \u001b[0;36mload_labels\u001b[1;34m()\u001b[0m\n\u001b[0;32m      1\u001b[0m \u001b[38;5;28;01mdef\u001b[39;00m \u001b[38;5;21mload_labels\u001b[39m():\n\u001b[1;32m----> 2\u001b[0m     labels_path \u001b[38;5;241m=\u001b[39m labels\u001b[38;5;241m.\u001b[39mtxt\n\u001b[0;32m      3\u001b[0m     labels_file \u001b[38;5;241m=\u001b[39m os\u001b[38;5;241m.\u001b[39mpath\u001b[38;5;241m.\u001b[39mbasename(labels_path)\n\u001b[0;32m      4\u001b[0m     \u001b[38;5;28;01mreturn\u001b[39;00m labels_file\n",
      "\u001b[1;31mNameError\u001b[0m: name 'labels' is not defined"
     ]
    }
   ],
   "source": [
    "load_labels()"
   ]
  }
 ],
 "metadata": {
  "kernelspec": {
   "display_name": "Python 3 (ipykernel)",
   "language": "python",
   "name": "python3"
  },
  "language_info": {
   "codemirror_mode": {
    "name": "ipython",
    "version": 3
   },
   "file_extension": ".py",
   "mimetype": "text/x-python",
   "name": "python",
   "nbconvert_exporter": "python",
   "pygments_lexer": "ipython3",
   "version": "3.11.5"
  }
 },
 "nbformat": 4,
 "nbformat_minor": 5
}
